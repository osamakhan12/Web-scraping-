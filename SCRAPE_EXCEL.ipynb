{
 "cells": [
  {
   "cell_type": "code",
   "execution_count": 4,
   "metadata": {},
   "outputs": [
    {
     "name": "stdout",
     "output_type": "stream",
     "text": [
      "['Ranking', 'Market', 'Retail value  US $ (millions)', 'Physical', 'Digital', 'Performance Rights', 'Synchronization']\n",
      "['1', 'United States', '5,318.2', '18%', '70%', '8%', '4%']\n",
      "['2', 'Japan', '2,745.9', '73%', '20%', '6%', '1%']\n",
      "['3', 'United Kingdom', '1,251.1', '32%', '47%', '19%', '2%']\n",
      "['4', 'Germany', '1,212.0', '52%', '32%', '16%', '1%']\n",
      "['5', 'France', '849.5', '38%', '30%', '29%', '3%']\n",
      "['6', 'Canada', '367.9', '27%', '63%', '9%', '0%']\n",
      "['7', 'Australia', '357.2', '23%', '64%', '11%', '2%']\n",
      "['8', 'South Korea', '330.1', '35%', '59%', '5%', '0%']\n",
      "['9', 'Italy', '263.7', '41%', '34%', '22%', '3%']\n",
      "['10', 'Netherlands', '243.3', '28%', '43%', '29%', '1%']\n",
      "['11', 'Brazil', '229.8', '14%', '49%', '37%', '0%']\n",
      "['12', 'China', '202.2', '4%', '96%', '0%', '0%']\n",
      "['13', 'Sweden', '192.4', '12%', '70%', '18%', '0%']\n",
      "['14', 'Spain', '190.8', '27%', '46%', '26%', '1%']\n",
      "['15', 'Mexico', '133.5', '24%', '66%', '4%', '6%']\n",
      "['16', 'Switzerland', '117.7', '34%', '45%', '21%', '0%']\n",
      "['17', 'Belgium', '117.1', '37%', '30%', '33%', '0%']\n",
      "['18', 'Norway', '114.1', '12%', '66%', '22%', '0%']\n",
      "['19', 'India', '111.6', '11%', '65%', '9%', '15%']\n",
      "['20', 'Argentina', '111.4', '16%', '24%', '59%', '0%']\n",
      "['', 'Global total', '15,700', 'n/a', 'n/a', 'n/a', 'n/a']\n"
     ]
    }
   ],
   "source": [
    "#!/usr/bin/env python\n",
    "# coding: utf-8\n",
    "\n",
    "# # Saving Data to CSV and Excel\n",
    "\n",
    "# In[7]:\n",
    "\n",
    "\n",
    "import bs4\n",
    "import urllib.request\n",
    "from urllib.request import urlopen \n",
    "from bs4 import BeautifulSoup as soup\n",
    "import csv\n",
    "\n",
    "\n",
    "# In[8]:\n",
    "\n",
    "\n",
    "filename = 'music.csv'\n",
    "f = open(filename,'w',newline = '')\n",
    "music = csv.writer(f)\n",
    "\n",
    "\n",
    "html = urlopen('https://en.wikipedia.org/wiki/List_of_largest_recorded_music_markets')\n",
    "bsobj = soup(html.read())\n",
    "tbody = bsobj('table',{'class':'wikitable plainrowheaders sortable'})[4].findAll('tr')\n",
    "xl = []\n",
    "for row in tbody:\n",
    "    cols = row.findChildren(recursive = False)\n",
    "    cols = [element.text.strip() for element in cols]\n",
    "    music.writerow(cols)\n",
    "    xl.append(cols)\n",
    "    print(cols)\n"
   ]
  },
  {
   "cell_type": "code",
   "execution_count": null,
   "metadata": {},
   "outputs": [],
   "source": [
    "\n",
    "\n",
    "# In[6]:\n",
    "\n",
    "\n",
    "import os\n",
    "os.getcwd()\n",
    "\n",
    "\n",
    "# In[9]:\n",
    "\n",
    "\n",
    "xl\n",
    "\n",
    "\n",
    "# ## Creating pandas dataframe and saving to excel\n",
    "\n",
    "# In[10]:\n",
    "\n",
    "\n",
    "import pandas as pd\n",
    "df = pd.DataFrame(data = xl)\n",
    "df\n",
    "\n",
    "\n",
    "# In[11]:\n",
    "\n",
    "\n",
    "df.to_excel('world_music.xlsx', index=False,header = False)\n",
    "print('Spreadsheet saved.')\n",
    "\n"
   ]
  }
 ],
 "metadata": {
  "kernelspec": {
   "display_name": "Python 3",
   "language": "python",
   "name": "python3"
  },
  "language_info": {
   "codemirror_mode": {
    "name": "ipython",
    "version": 3
   },
   "file_extension": ".py",
   "mimetype": "text/x-python",
   "name": "python",
   "nbconvert_exporter": "python",
   "pygments_lexer": "ipython3",
   "version": "3.8.5"
  }
 },
 "nbformat": 4,
 "nbformat_minor": 4
}
